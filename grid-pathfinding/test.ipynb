{
 "cells": [
  {
   "cell_type": "code",
   "execution_count": 1,
   "metadata": {},
   "outputs": [],
   "source": [
    "from grid import Grid\n",
    "from dijkstra import dijkstra\n",
    "from astar import a_star"
   ]
  },
  {
   "cell_type": "code",
   "execution_count": 55,
   "metadata": {},
   "outputs": [],
   "source": [
    "#g = Grid(7, 7, obstacles = [(2, 0), (2, 1), (2, 2), (2, 3), (2, 4), (4, 2), (4, 3), (4, 4), (4, 5), (4, 6)])\n",
    "g = Grid(7, 7, obstacles = [])\n",
    "src = (0, 0)\n",
    "dest = (6, 6)"
   ]
  },
  {
   "cell_type": "code",
   "execution_count": 56,
   "metadata": {},
   "outputs": [],
   "source": [
    "nodes = g.get_nodes()\n",
    "#obstacles = [(2, 0), (2, 1), (2, 2), (2, 3), (2, 4), (4, 2), (4, 3), (4, 4), (4, 5), (4, 6)]\n",
    "obstacles = []\n",
    "path1 = dijkstra(g, src, dest)\n",
    "path2 = a_star(g, src, dest)"
   ]
  },
  {
   "cell_type": "code",
   "execution_count": 77,
   "metadata": {},
   "outputs": [
    {
     "data": {
      "image/png": "[encoded data removed]",
      "text/plain": [
       "<Figure size 432x288 with 1 Axes>"
      ]
     },
     "metadata": {
      "needs_background": "light"
     },
     "output_type": "display_data"
    }
   ],
   "source": [
    "import matplotlib\n",
    "from matplotlib.pyplot import plot, scatter\n",
    "import numpy as np\n",
    "\n",
    "# visulize the grid\n",
    "for i in range(len(nodes)-1):\n",
    "    for j in range(i+1,len(nodes)):\n",
    "        n1 = nodes[i]\n",
    "        n2 = nodes[j]\n",
    "        # plot the adjacent lines\n",
    "        if abs(n1[1]-n2[1]) + abs(n1[0]-n2[0]) <= 1:\n",
    "            x = [n1[0],n2[0]]\n",
    "            y = [n1[1],n2[1]]\n",
    "            plot(x, y, color = 'b')\n",
    "            if n1 == src or n1 == dest:\n",
    "                scatter([n1[0]],[n1[1]],marker='x',s=150, color='r')\n",
    "            else:\n",
    "                scatter([n1[0]],[n1[1]],marker='o',color='b')\n",
    "            if n2 == src or n2 == dest:\n",
    "                scatter([n2[0]],[n2[1]],marker='x',s=150,color='r')\n",
    "            else:\n",
    "                scatter([n2[0]],[n2[1]],marker='o',color='b')"
   ]
  },
  {
   "cell_type": "code",
   "execution_count": null,
   "metadata": {},
   "outputs": [],
   "source": []
  }
 ],
 "metadata": {
  "kernelspec": {
   "display_name": "Python 3",
   "language": "python",
   "name": "python3"
  },
  "language_info": {
   "codemirror_mode": {
    "name": "ipython",
    "version": 3
   },
   "file_extension": ".py",
   "mimetype": "text/x-python",
   "name": "python",
   "nbconvert_exporter": "python",
   "pygments_lexer": "ipython3",
   "version": "3.9.5"
  }
 },
 "nbformat": 4,
 "nbformat_minor": 2
}
